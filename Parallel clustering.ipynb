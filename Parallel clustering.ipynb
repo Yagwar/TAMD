{
 "cells": [
  {
   "cell_type": "markdown",
   "metadata": {},
   "source": [
    "# Clustering Documents\n",
    "\n",
    "http://scikit-learn.org/stable/auto_examples/text/document_clustering.html\n",
    "        "
   ]
  },
  {
   "cell_type": "code",
   "execution_count": 1,
   "metadata": {
    "collapsed": true
   },
   "outputs": [],
   "source": [
    "\"\"\"\n",
    "import os\n",
    "os.chdir('C:\\Users\\Alexis\\Documents\\Mineria de datos Primera descarga trabajo IOT')\n",
    "print os.getcwd()\n",
    "\"\"\"\n",
    "import nltk\n",
    "from nltk import sent_tokenize, word_tokenize\n",
    "import glob\n",
    "import codecs\n",
    "from nltk import word_tokenize, FreqDist\n",
    "from math import log\n",
    "import nltk\n",
    "import string\n",
    "import os\n",
    "from sklearn.feature_extraction.text import TfidfVectorizer\n",
    "from nltk.stem.porter import PorterStemmer\n",
    "import time\n",
    "from sklearn.cluster import KMeans\n",
    "from sklearn.decomposition import PCA\n",
    "\n",
    "from sklearn import metrics\n",
    "\n",
    "import pandas as pd\n",
    "import numpy as np\n",
    "import matplotlib.pyplot as plt\n",
    "\n"
   ]
  },
  {
   "cell_type": "markdown",
   "metadata": {},
   "source": [
    "### Sample n=6415"
   ]
  },
  {
   "cell_type": "code",
   "execution_count": 3,
   "metadata": {
    "collapsed": false
   },
   "outputs": [
    {
     "name": "stdout",
     "output_type": "stream",
     "text": [
      "Total: 25899\n",
      "Sample: 6415\n"
     ]
    }
   ],
   "source": [
    "path_prep_sample_files = 'TextResults/'\n",
    "path_prep_files = 'TextResults_full/'\n",
    "all_files =  glob.glob(path_prep_files+'*.txt')\n",
    "sample_files =  glob.glob(path_prep_sample_files+'*.txt')\n",
    "\n",
    "print \"Total:\",len(all_files)\n",
    "print \"Sample:\",len(sample_files)"
   ]
  },
  {
   "cell_type": "code",
   "execution_count": 2,
   "metadata": {
    "collapsed": false
   },
   "outputs": [
    {
     "name": "stdout",
     "output_type": "stream",
     "text": [
      "time preprocessing: 108.497999907\n",
      "Dimensiones tf-idf (25899, 216726)\n"
     ]
    }
   ],
   "source": [
    "token_dict = {}\n",
    "\n",
    "path = 'TextResults_full/'\n",
    "#path = 'TextResults/'\n",
    "i=0\n",
    "for subdir, dirs, files in os.walk(path):\n",
    "    for file in files:\n",
    "        file_path = subdir + os.path.sep + file\n",
    "        shakes = codecs.open(file_path, encoding='utf-8', errors='ignore')\n",
    "        text = shakes.read()\n",
    "        token_dict[file] = text\n",
    "        i+=1\n",
    "        #print i,file\n",
    "\n",
    "def tokenize(text):\n",
    "    tokens = nltk.word_tokenize(text)\n",
    "    return  tokens\n",
    "\n",
    "start = time.time()\n",
    "tfidf = TfidfVectorizer(tokenizer=tokenize, stop_words='english')\n",
    "tfs = tfidf.fit_transform(token_dict.values())\n",
    "end = time.time()\n",
    "print \"time preprocessing:\",end-start\n",
    "print \"Dimensiones tf-idf\",tfs.shape\n"
   ]
  },
  {
   "cell_type": "markdown",
   "metadata": {},
   "source": [
    "### K- means\n",
    "\n",
    "Parameters for sample (6415)\n",
    "\n",
    "init='k-means++', n_clusters=10, n_init=10\n",
    "\n",
    "n_jobs=-1 (4 cores. Time execution: 59.21)\n",
    "\n",
    "n_jobs=1  (1 core. Time execution: 144.74)\n",
    "\n",
    "#### Complete corpus"
   ]
  },
  {
   "cell_type": "code",
   "execution_count": 3,
   "metadata": {
    "collapsed": false
   },
   "outputs": [
    {
     "name": "stdout",
     "output_type": "stream",
     "text": [
      "836.763000011\n"
     ]
    }
   ],
   "source": [
    "start = time.time()\n",
    "kmeans = KMeans(init='k-means++', n_clusters=18, n_init=10, n_jobs=-1)\n",
    "kmeans_fit=kmeans.fit(tfs)\n",
    "end = time.time()\n",
    "print end-start"
   ]
  },
  {
   "cell_type": "markdown",
   "metadata": {},
   "source": [
    "<img src=\"https://github.com/Yagwar/TAMD/blob/master/full%202.PNG?raw=true\">"
   ]
  },
  {
   "cell_type": "code",
   "execution_count": 4,
   "metadata": {
    "collapsed": false
   },
   "outputs": [
    {
     "name": "stdout",
     "output_type": "stream",
     "text": [
      "1086.9519999\n",
      "Score: 0.12002729641\n"
     ]
    }
   ],
   "source": [
    "start = time.time()\n",
    "labels = kmeans_fit.labels_\n",
    "silhouette=metrics.silhouette_score(tfs, labels, metric='euclidean')\n",
    "end = time.time()\n",
    "print end-start\n",
    "print \"Score:\",silhouette"
   ]
  },
  {
   "cell_type": "markdown",
   "metadata": {},
   "source": [
    "<img src=\"https://github.com/Yagwar/TAMD/blob/master/silhouette.PNG?raw=true\">"
   ]
  },
  {
   "cell_type": "markdown",
   "metadata": {},
   "source": [
    "#### Identifying the best K"
   ]
  },
  {
   "cell_type": "code",
   "execution_count": null,
   "metadata": {
    "collapsed": false,
    "scrolled": true
   },
   "outputs": [],
   "source": [
    "k_range = range(2,65,3)\n",
    "\n",
    "start = time.time()\n",
    "# Fit the kmeans model for each n_clusters = k\n",
    "k_means_var = [KMeans(init='k-means++', n_clusters=k, n_init=10, n_jobs=-1).fit(tfs) for k in k_range]\n",
    "Res_Silhouette=[metrics.silhouette_score(tfs, cluster.labels_, metric='euclidean') for cluster in k_means_var]\n",
    "end = time.time()\n",
    "print \"time processing range:\",end-start\n",
    "Res_Silhouette"
   ]
  },
  {
   "cell_type": "code",
   "execution_count": 15,
   "metadata": {
    "collapsed": false
   },
   "outputs": [
    {
     "data": {
      "image/png": "[encoded data removed]",
      "text/plain": [
       "<matplotlib.figure.Figure at 0x1297ffd0>"
      ]
     },
     "metadata": {},
     "output_type": "display_data"
    }
   ],
   "source": [
    "k_range = range(2,65,3)\n",
    "Res_Silhouette=[0.085957614750161199,0.094773363193297738,0.10081600345660363,0.11031168155298694,0.11938710225098438,0.11897956105075121,0.12275568625396599,0.12656288376889119,0.13011650609641656,0.13499090215597626,0.13367151380218861,0.1343220278299061,0.13691933645861112,0.14255573118725087,0.13950446043865483,0.14511686346382002,0.13593525991048822,0.13960314936526319,0.14176217329078822,0.14661756225176911,0.15090043375231807]\n",
    "%matplotlib inline \n",
    "plt.plot(k_range, Res_Silhouette,\"-\")\n",
    "plt.xlabel(\"n_clusters para k-means\")\n",
    "plt.ylabel(\"coeficiente de silhouette\")\n",
    "plt.show()\n"
   ]
  },
  {
   "cell_type": "code",
   "execution_count": null,
   "metadata": {
    "collapsed": false
   },
   "outputs": [],
   "source": [
    "import pandas as pd\n",
    "import numpy as np\n",
    "import matplotlib.pyplot as plt\n"
   ]
  },
  {
   "cell_type": "code",
   "execution_count": null,
   "metadata": {
    "collapsed": false
   },
   "outputs": [],
   "source": [
    "from sklearn.decomposition import PCA\n",
    "reduced_data = PCA(2).fit_transform(tfs.toarray())\n",
    "pca_clustering = KMeans(init='k-means++', n_clusters=10, n_init=10, n_jobs=-1).fit(reduced_data)"
   ]
  },
  {
   "cell_type": "markdown",
   "metadata": {},
   "source": [
    "### Complete \n",
    "\n",
    "Corpus n=25899\n",
    "time (secs)= 182.984999895"
   ]
  }
 ],
 "metadata": {
  "kernelspec": {
   "display_name": "Python 2",
   "language": "python",
   "name": "python2"
  },
  "language_info": {
   "codemirror_mode": {
    "name": "ipython",
    "version": 2
   },
   "file_extension": ".py",
   "mimetype": "text/x-python",
   "name": "python",
   "nbconvert_exporter": "python",
   "pygments_lexer": "ipython2",
   "version": "2.7.11"
  }
 },
 "nbformat": 4,
 "nbformat_minor": 0
}
