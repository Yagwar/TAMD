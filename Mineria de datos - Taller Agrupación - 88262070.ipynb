{
 "cells": [
  {
   "cell_type": "markdown",
   "metadata": {},
   "source": [
    "# Taller 3 Agrupación"
   ]
  },
  {
   "cell_type": "code",
   "execution_count": 1,
   "metadata": {
    "collapsed": true
   },
   "outputs": [],
   "source": [
    "import warnings\n",
    "warnings.filterwarnings('ignore')\n",
    "\n",
    "from sklearn.metrics.pairwise import euclidean_distances\n",
    "from sklearn.metrics.pairwise import manhattan_distances\n",
    "from scipy.spatial import distance\n",
    "import math\n",
    "import matplotlib.pyplot as plt\n",
    "%matplotlib inline\n",
    "import pandas as pd\n",
    "import numpy as np\n",
    "from sklearn import datasets\n",
    "from sklearn.cluster import KMeans\n",
    "from scipy.cluster import hierarchy"
   ]
  },
  {
   "cell_type": "markdown",
   "metadata": {},
   "source": [
    "## Medidas de proximidad\n",
    "\n",
    "### 1\n",
    "Dados los ejemplos numéricos $A=\\{1,0,2,5,3\\}$ y $B=\\{2,1,0,3,-1\\}$, encontrar:\n",
    "\n",
    "a) La distancia euclideana\n",
    "\n",
    "b) La distancia city-block\n",
    "\n",
    "c) La distancia Minkowski para p=3\n",
    "\n",
    "d) La correlación coseno"
   ]
  },
  {
   "cell_type": "code",
   "execution_count": 2,
   "metadata": {
    "collapsed": true
   },
   "outputs": [],
   "source": [
    "A=[1,0,2,5,3]\n",
    "B=[2,1,0,3,-1]"
   ]
  },
  {
   "cell_type": "code",
   "execution_count": 3,
   "metadata": {
    "collapsed": false
   },
   "outputs": [
    {
     "data": {
      "text/plain": [
       "array([[ 5.09901951]])"
      ]
     },
     "execution_count": 3,
     "metadata": {},
     "output_type": "execute_result"
    }
   ],
   "source": [
    "euclidean_distances(A, B)"
   ]
  },
  {
   "cell_type": "code",
   "execution_count": 4,
   "metadata": {
    "collapsed": false
   },
   "outputs": [
    {
     "data": {
      "text/plain": [
       "array([[ 10.]])"
      ]
     },
     "execution_count": 4,
     "metadata": {},
     "output_type": "execute_result"
    }
   ],
   "source": [
    "manhattan_distances(A,B)"
   ]
  },
  {
   "cell_type": "code",
   "execution_count": 5,
   "metadata": {
    "collapsed": false
   },
   "outputs": [
    {
     "data": {
      "text/plain": [
       "4.3444814857686112"
      ]
     },
     "execution_count": 5,
     "metadata": {},
     "output_type": "execute_result"
    }
   ],
   "source": [
    "distance.minkowski(A,B,3)"
   ]
  },
  {
   "cell_type": "code",
   "execution_count": 6,
   "metadata": {
    "collapsed": false
   },
   "outputs": [
    {
     "data": {
      "text/plain": [
       "0.42117123858369387"
      ]
     },
     "execution_count": 6,
     "metadata": {},
     "output_type": "execute_result"
    }
   ],
   "source": [
    "distance.cosine(A,B)"
   ]
  },
  {
   "cell_type": "markdown",
   "metadata": {},
   "source": [
    "### 2\n",
    "Dado los ejemplos catégoricos $C=\\{A,B,A,B,A,A\\}$ y $D=\\{B,B,A,B,B,A\\}$, encontrar:\n",
    "\n",
    "a) La similaridad usando SMC (Simple matching coeficient)\n",
    "\n",
    "b) La similaridad usando Jaccard\n",
    "\n",
    "c) La similaridad usando el Coeficiente de Rao"
   ]
  },
  {
   "cell_type": "code",
   "execution_count": 7,
   "metadata": {
    "collapsed": true
   },
   "outputs": [],
   "source": [
    "C=[\"A\",\"B\",\"A\",\"B\",\"A\",\"A\"]\n",
    "D=[\"B\",\"B\",\"A\",\"B\",\"B\",\"A\"]\n"
   ]
  },
  {
   "cell_type": "code",
   "execution_count": 8,
   "metadata": {
    "collapsed": false
   },
   "outputs": [
    {
     "data": {
      "text/plain": [
       "0.6666666666666666"
      ]
     },
     "execution_count": 8,
     "metadata": {},
     "output_type": "execute_result"
    }
   ],
   "source": [
    "def sim_smc(x, y):\n",
    "    matches = 0\n",
    "    for idx, val in enumerate(x):\n",
    "        if x[idx] == y[idx]:\n",
    "            matches += 1\n",
    "    return matches / float(len(x))\n",
    "\n",
    "df_cd=pd.DataFrame({\"C\":C, \"D\":D})\n",
    "tabl_CD=pd.crosstab(df_cd[\"C\"],df_cd[\"D\"])\n",
    "a=float(tabl_CD[\"A\"][0])\n",
    "b=float(tabl_CD[\"B\"][0])\n",
    "c=float(tabl_CD[\"A\"][1])\n",
    "d=float(tabl_CD[\"B\"][1])\n",
    "\n",
    "\n",
    "sim_smc(C,D)"
   ]
  },
  {
   "cell_type": "code",
   "execution_count": 9,
   "metadata": {
    "collapsed": false
   },
   "outputs": [
    {
     "data": {
      "text/plain": [
       "0.5"
      ]
     },
     "execution_count": 9,
     "metadata": {},
     "output_type": "execute_result"
    }
   ],
   "source": [
    "#jaccard\n",
    "a/(a+b+c)"
   ]
  },
  {
   "cell_type": "code",
   "execution_count": 10,
   "metadata": {
    "collapsed": false,
    "scrolled": false
   },
   "outputs": [
    {
     "data": {
      "text/plain": [
       "0.3333333333333333"
      ]
     },
     "execution_count": 10,
     "metadata": {},
     "output_type": "execute_result"
    }
   ],
   "source": [
    "#RAO\n",
    "a/(a+b+c+d)"
   ]
  },
  {
   "cell_type": "markdown",
   "metadata": {},
   "source": [
    "## Algoritmos\n",
    "### 1\n",
    "Aplicar el algoritmo k-means al conjunto de datos Iris (sin la clase), para $k=2,3,4,5,6,7,8$. Dibujar\n",
    "la gáfica de Elbow(codo) basada en el SSE. Explique los resultados."
   ]
  },
  {
   "cell_type": "code",
   "execution_count": 11,
   "metadata": {
    "collapsed": true
   },
   "outputs": [],
   "source": [
    "iris = datasets.load_iris().data\n",
    "kmeans = KMeans(n_clusters=2, random_state=0).fit(iris)"
   ]
  },
  {
   "cell_type": "code",
   "execution_count": 12,
   "metadata": {
    "collapsed": false
   },
   "outputs": [],
   "source": [
    "def sse(dataset,n_clust):\n",
    "    kmeans = KMeans(n_clusters=n_clust, random_state=0).fit(dataset)\n",
    "    err=[]\n",
    "    for i in range(len(dataset)):\n",
    "        vector=dataset[i]\n",
    "        cluster=kmeans.labels_[i]\n",
    "        centroid=kmeans.cluster_centers_[cluster]\n",
    "        err.append(distance.sqeuclidean(vector,centroid))\n",
    "    return sum(err)"
   ]
  },
  {
   "cell_type": "code",
   "execution_count": 13,
   "metadata": {
    "collapsed": false
   },
   "outputs": [
    {
     "name": "stdout",
     "output_type": "stream",
     "text": [
      "[152.36870647733912, 78.940841426146008, 57.317873214285719, 46.561630158730161, 38.930963049671732, 34.190687924796642, 30.063874432733133]\n"
     ]
    },
    {
     "data": {
      "text/plain": [
       "<matplotlib.text.Text at 0x1b9b1240>"
      ]
     },
     "execution_count": 13,
     "metadata": {},
     "output_type": "execute_result"
    },
    {
     "data": {
      "image/png": "[encoded data removed]",
      "text/plain": [
       "<matplotlib.figure.Figure at 0x43c1d68>"
      ]
     },
     "metadata": {},
     "output_type": "display_data"
    }
   ],
   "source": [
    "est_errs=[sse(iris,k) for k in range(2,9)]\n",
    "print est_errs\n",
    "plt.plot(range(2,9),est_errs)\n",
    "plt.title('SSE (1<K<9)')"
   ]
  },
  {
   "cell_type": "markdown",
   "metadata": {},
   "source": [
    "### 2\n",
    "Dados K grupos de igual tamaño en un conjunto de datos, la probabilidad the escoger aleatoriamente un centroide inicial de un grupo es dada por 1=K , pero la probabilidad de que cada grupo tenga exactamente un centroide inicial es mucho más baja (es claro, que para el K-means tener un centroide inicial de cada grupo es una excelente inicialización del algoritmo). En general, si se tienen K grupos y cada grupo tiene n puntos, la probabilidad p de seleccionar un punto por cada grupo en un muestreo de tamaño K es:\n",
    "$$\\frac{K!}{K^{K}}$$\n",
    "\n",
    "a) Dibujar la probabilidad de obtener un punto por cada grupo en una muestra de tamaño $K$\n",
    "para valores de $2 < K < 100$.\n",
    "\n",
    "b) Para K grupos, $K = 10; 100; 1000$, encontrar la probabilidad de que una muestra de de tamaño\n",
    "$2K$ contenga al menos un punto de cada grupo. Puede usar métdos matemáticos o simulaciones\n",
    "estadísticas para la respuesta."
   ]
  },
  {
   "cell_type": "code",
   "execution_count": 14,
   "metadata": {
    "collapsed": false
   },
   "outputs": [],
   "source": [
    "def probab_centroid (n_clusters):\n",
    "    return math.factorial(n_clusters)/float((n_clusters**n_clusters))"
   ]
  },
  {
   "cell_type": "code",
   "execution_count": 15,
   "metadata": {
    "collapsed": false
   },
   "outputs": [
    {
     "data": {
      "text/plain": [
       "<matplotlib.text.Text at 0x1bcc3e80>"
      ]
     },
     "execution_count": 15,
     "metadata": {},
     "output_type": "execute_result"
    },
    {
     "data": {
      "image/png": "[encoded data removed]",
      "text/plain": [
       "<matplotlib.figure.Figure at 0x1bb993c8>"
      ]
     },
     "metadata": {},
     "output_type": "display_data"
    }
   ],
   "source": [
    "probs=[probab_centroid(n) for n in range(3,100)]\n",
    "plt.plot(probs)\n",
    "plt.title('Probabilidades (2<K<100)')"
   ]
  },
  {
   "cell_type": "markdown",
   "metadata": {
    "collapsed": false
   },
   "source": [
    "### 3\n",
    "Los algoritmos jerárquicos aglomerativos tradicionales para agrupación unen dos clusters en cada\n",
    "iteración. ¿Cree usted que estos algoritmos capturan adecuadamente la estructura de grupos de\n",
    "un conjunto de datos? Si no, explique como podría pos-procesar los datos para obtener una mejor\n",
    "apreciación de la estructura de los grupos.\n",
    "\n",
    "#### Rta:\n",
    "\n",
    "Los algoritmos aglomerativos presentan dificultades ante el ruido, la forma y el tamaño del cluster, dependiendo del tipo de enlace con el que se determine el cluster a unir en la siguiente iteración. Por lo tanto no capturan de manera adecuada la forma de los grupos, ya que no hay una única manera de superar estos inconvenientes. El pos-procesamiento implicaria revisar diferentes puntos de corte para los cluster y probar diferentes algoritmos para identificarlos parámetros que mejor describan loos datos."
   ]
  },
  {
   "cell_type": "markdown",
   "metadata": {
    "collapsed": false
   },
   "source": [
    "### 4\n",
    "Algoritmos jerárquicos son usados para generar $K$ grupos $(K >1)$ tomando los grupos al nivel\n",
    "$K^{th}$ del dendograma. Analizando los grupos generados de esta forma, se puede evaluar el comportamiento\n",
    "del algoritmo en diferentes tipos de datos y grupos, e incluso comparar con los resultados\n",
    "generados por el algoritmo K-means.\n",
    "Si se tiene el siguiente conjunto de puntos en una dimensión: $\\{6,12,18,24,30,42,48\\}$\n",
    "\n",
    "a) Por cada uno de los siguientes conjuntos de centroides iniciales, crear dos (2) grupos asumiendo\n",
    "cada punto al centroide más cercano, y luego calcular el error cuadrado total por cada conjunto\n",
    "de dos grupos. Mostrar los grupos y el error cuadrado total por cada conjunto de centroides:\n",
    "\n",
    "1) $\\{18, 45\\}$\n",
    "\n",
    "2) $\\{15, 40\\}$\n",
    "\n",
    "b) Ambas soluciones representan soluciones estables. Si el K-means se ejecutara tomando como\n",
    "centroides iniciales los centroides dados, ¿Habría algún cambio en los grupos generados?\n",
    "\n",
    "RTA=    No. Se observan los mismos valores en el error cuadrático y la misma asignación de los puntos a los cluster"
   ]
  },
  {
   "cell_type": "code",
   "execution_count": 16,
   "metadata": {
    "collapsed": true
   },
   "outputs": [],
   "source": [
    "data=[6,12,18,24,30,42,48]\n",
    "c1=[18,45]\n",
    "c2=[15,40]"
   ]
  },
  {
   "cell_type": "code",
   "execution_count": 17,
   "metadata": {
    "collapsed": false
   },
   "outputs": [
    {
     "name": "stdout",
     "output_type": "stream",
     "text": [
      "[0, 0, 0, 0, 0, 1, 1]\n",
      "378.0\n"
     ]
    }
   ],
   "source": [
    "dists=np.array([distance.sqeuclidean(point,centroid) for point in data for centroid in c1]).reshape(7,2)\n",
    "clust=[np.argmin(point) for point in dists]\n",
    "print clust\n",
    "err=sum([ dists[i,clust[i]]for i in range(len(dists))])\n",
    "print err"
   ]
  },
  {
   "cell_type": "code",
   "execution_count": 18,
   "metadata": {
    "collapsed": false
   },
   "outputs": [
    {
     "name": "stdout",
     "output_type": "stream",
     "text": [
      "[0, 0, 0, 0, 1, 1, 1]\n",
      "348.0\n"
     ]
    }
   ],
   "source": [
    "dists=np.array([distance.sqeuclidean(point,centroid) for point in data for centroid in c2]).reshape(7,2)\n",
    "clust=[np.argmin(point) for point in dists]\n",
    "print clust\n",
    "err=sum([ dists[i,clust[i]]for i in range(len(dists))])\n",
    "print err"
   ]
  },
  {
   "cell_type": "code",
   "execution_count": 19,
   "metadata": {
    "collapsed": false
   },
   "outputs": [
    {
     "name": "stdout",
     "output_type": "stream",
     "text": [
      "[0 0 0 0 0 1 1]\n",
      "378.0\n"
     ]
    }
   ],
   "source": [
    "data_km=KMeans(n_clusters=2, init=np.array(c1).reshape(2,1)).fit(np.array(data).reshape(7,1))\n",
    "print data_km.labels_\n",
    "print data_km.inertia_"
   ]
  },
  {
   "cell_type": "code",
   "execution_count": 20,
   "metadata": {
    "collapsed": false
   },
   "outputs": [
    {
     "name": "stdout",
     "output_type": "stream",
     "text": [
      "[0 0 0 0 1 1 1]\n",
      "348.0\n"
     ]
    }
   ],
   "source": [
    "data_km=KMeans(n_clusters=2, init=np.array(c2).reshape(2,1)).fit(np.array(data).reshape(7,1))\n",
    "print data_km.labels_\n",
    "print data_km.inertia_"
   ]
  },
  {
   "cell_type": "markdown",
   "metadata": {},
   "source": [
    "c) ¿Cuales serían los grupos producidos usando single link?"
   ]
  },
  {
   "cell_type": "code",
   "execution_count": 21,
   "metadata": {
    "collapsed": false
   },
   "outputs": [
    {
     "data": {
      "text/plain": [
       "<matplotlib.text.Text at 0x1bed3b00>"
      ]
     },
     "execution_count": 21,
     "metadata": {},
     "output_type": "execute_result"
    },
    {
     "data": {
      "image/png": "[encoded data removed]",
      "text/plain": [
       "<matplotlib.figure.Figure at 0x1bb660b8>"
      ]
     },
     "metadata": {},
     "output_type": "display_data"
    }
   ],
   "source": [
    "ytdist = np.array(data).reshape(7,1)\n",
    "Z = hierarchy.linkage(ytdist, 'single')\n",
    "plt.figure()\n",
    "dn = hierarchy.dendrogram(Z)\n",
    "plt.title('Single Link Dendrogram')"
   ]
  },
  {
   "cell_type": "markdown",
   "metadata": {},
   "source": [
    "d) ¿Cuál algoritmo, K-means o Single link, parece producir la solución “más natural”?\n",
    "\n",
    "RTA=Me parece que single link, ya que no depende de una inicialización que altere el resultado de los cluster\n",
    "\n",
    "e) ¿Cuál definición de agrupación corresponde mejor a la solución generada? (grupos bien separados,\n",
    "basados en centro, densos, cercanso, etc.). ¿Cuál característica del algoritmo k-means\n",
    "explica ese comportamiento?\n",
    "\n",
    "RTA= Dado que la separación entre los cluster es una brecha y que el primer cluster tiene puntos equidistantes, la definición que corresponde son los cluster cercano o contiguo."
   ]
  },
  {
   "cell_type": "markdown",
   "metadata": {},
   "source": [
    "### 5\n",
    "Dado un conjunto de ejemplos categóricos de 5 dimensiones:\n",
    "\n",
    "a) Aplique agrupamiento jerárquico aglomerativo, usando:\n",
    "\n",
    "1) Medida intercluster enlace simple (single link o MIN) basado en el coeficiente de Rao.\n",
    "Diagramar el dendograma\n",
    "\n",
    "2) Medida intercluster enlace completo (complete link o MAX) basado en coeficiente de\n",
    "correspondencia simple CCS (su sigla en inglés, SMC Simple Matching Coeficient). Diagramar\n",
    "el dendograma\n",
    "\n",
    "b) ¿Es posible usar una medida intercluster basada en prototipos? Si es posible, ¿cuál sería?\n",
    "\n",
    "c) ¿Es posible usar el método de Ward? Explique."
   ]
  },
  {
   "cell_type": "code",
   "execution_count": 22,
   "metadata": {
    "collapsed": false
   },
   "outputs": [
    {
     "data": {
      "text/html": [
       "<div>\n",
       "<table border=\"1\" class=\"dataframe\">\n",
       "  <thead>\n",
       "    <tr style=\"text-align: right;\">\n",
       "      <th></th>\n",
       "      <th>X1</th>\n",
       "      <th>X2</th>\n",
       "      <th>X3</th>\n",
       "      <th>X4</th>\n",
       "      <th>X5</th>\n",
       "    </tr>\n",
       "  </thead>\n",
       "  <tbody>\n",
       "    <tr>\n",
       "      <th>0</th>\n",
       "      <td>1</td>\n",
       "      <td>0</td>\n",
       "      <td>1</td>\n",
       "      <td>1</td>\n",
       "      <td>0</td>\n",
       "    </tr>\n",
       "    <tr>\n",
       "      <th>1</th>\n",
       "      <td>1</td>\n",
       "      <td>1</td>\n",
       "      <td>0</td>\n",
       "      <td>1</td>\n",
       "      <td>0</td>\n",
       "    </tr>\n",
       "    <tr>\n",
       "      <th>2</th>\n",
       "      <td>0</td>\n",
       "      <td>0</td>\n",
       "      <td>1</td>\n",
       "      <td>1</td>\n",
       "      <td>0</td>\n",
       "    </tr>\n",
       "    <tr>\n",
       "      <th>3</th>\n",
       "      <td>0</td>\n",
       "      <td>1</td>\n",
       "      <td>0</td>\n",
       "      <td>1</td>\n",
       "      <td>0</td>\n",
       "    </tr>\n",
       "    <tr>\n",
       "      <th>4</th>\n",
       "      <td>1</td>\n",
       "      <td>0</td>\n",
       "      <td>1</td>\n",
       "      <td>0</td>\n",
       "      <td>1</td>\n",
       "    </tr>\n",
       "  </tbody>\n",
       "</table>\n",
       "</div>"
      ],
      "text/plain": [
       "   X1  X2  X3  X4  X5\n",
       "0   1   0   1   1   0\n",
       "1   1   1   0   1   0\n",
       "2   0   0   1   1   0\n",
       "3   0   1   0   1   0\n",
       "4   1   0   1   0   1"
      ]
     },
     "execution_count": 22,
     "metadata": {},
     "output_type": "execute_result"
    }
   ],
   "source": [
    "dimens=[\"X1\",\"X2\",\"X3\",\"X4\", \"X5\"]\n",
    "A=[1,0,1,1,0]\n",
    "B=[1,1,0,1,0]\n",
    "C=[0,0,1,1,0]\n",
    "D=[0,1,0,1,0]\n",
    "E=[1,0,1,0,1]\n",
    "F=[0,1,1,0,0]\n",
    "\n",
    "cat_data=pd.DataFrame(data=[A,B,C,D,E],columns=dimens)\n",
    "cat_data"
   ]
  },
  {
   "cell_type": "code",
   "execution_count": 23,
   "metadata": {
    "collapsed": false
   },
   "outputs": [
    {
     "name": "stdout",
     "output_type": "stream",
     "text": [
      "[[ 0.   0.6  0.6  0.8  0.6]\n",
      " [ 0.6  0.   0.8  0.6  0.8]\n",
      " [ 0.6  0.8  0.   0.8  0.8]\n",
      " [ 0.8  0.6  0.8  0.   1. ]\n",
      " [ 0.6  0.8  0.8  1.   0. ]]\n"
     ]
    },
    {
     "data": {
      "image/png": "[encoded data removed]",
      "text/plain": [
       "<matplotlib.figure.Figure at 0x1ba22f60>"
      ]
     },
     "metadata": {},
     "output_type": "display_data"
    }
   ],
   "source": [
    "rao_dist=distance.pdist(cat_data, 'russellrao')\n",
    "print distance.squareform(rao_dist)\n",
    "Z = hierarchy.linkage(distance.squareform(rao_dist), 'single')\n",
    "plt.figure()\n",
    "plt.title('Single Link Dendrogram / RAO distance')\n",
    "dn = hierarchy.dendrogram(Z)"
   ]
  },
  {
   "cell_type": "code",
   "execution_count": 24,
   "metadata": {
    "collapsed": false
   },
   "outputs": [
    {
     "name": "stdout",
     "output_type": "stream",
     "text": [
      "[[ 0.   0.4  0.2  0.6  0.4]\n",
      " [ 0.4  0.   0.6  0.2  0.8]\n",
      " [ 0.2  0.6  0.   0.4  0.6]\n",
      " [ 0.6  0.2  0.4  0.   1. ]\n",
      " [ 0.4  0.8  0.6  1.   0. ]]\n"
     ]
    },
    {
     "data": {
      "image/png": "[encoded data removed]",
      "text/plain": [
       "<matplotlib.figure.Figure at 0x1ba17358>"
      ]
     },
     "metadata": {},
     "output_type": "display_data"
    }
   ],
   "source": [
    "matching=distance.pdist(cat_data, 'matching')\n",
    "print distance.squareform(matching)\n",
    "Z = hierarchy.linkage(distance.squareform(matching), 'complete')\n",
    "plt.figure()\n",
    "plt.title('Max Link Dendrogram / Simple Matching distance')\n",
    "dn = hierarchy.dendrogram(Z)"
   ]
  },
  {
   "cell_type": "code",
   "execution_count": 25,
   "metadata": {
    "collapsed": false
   },
   "outputs": [
    {
     "name": "stdout",
     "output_type": "stream",
     "text": [
      "[[ 0.   0.4  0.2  0.6  0.4]\n",
      " [ 0.4  0.   0.6  0.2  0.8]\n",
      " [ 0.2  0.6  0.   0.4  0.6]\n",
      " [ 0.6  0.2  0.4  0.   1. ]\n",
      " [ 0.4  0.8  0.6  1.   0. ]]\n"
     ]
    },
    {
     "data": {
      "image/png": "[encoded data removed]",
      "text/plain": [
       "<matplotlib.figure.Figure at 0x1c421198>"
      ]
     },
     "metadata": {},
     "output_type": "display_data"
    }
   ],
   "source": [
    "matching=distance.pdist(cat_data, 'matching')\n",
    "print distance.squareform(matching)\n",
    "Z = hierarchy.linkage(distance.squareform(matching), 'centroid')\n",
    "plt.figure()\n",
    "plt.title('Centroid Dendrogram / Simple Matching distance')\n",
    "dn = hierarchy.dendrogram(Z)"
   ]
  },
  {
   "cell_type": "code",
   "execution_count": 26,
   "metadata": {
    "collapsed": false
   },
   "outputs": [
    {
     "name": "stdout",
     "output_type": "stream",
     "text": [
      "[[ 0.   0.4  0.2  0.6  0.4]\n",
      " [ 0.4  0.   0.6  0.2  0.8]\n",
      " [ 0.2  0.6  0.   0.4  0.6]\n",
      " [ 0.6  0.2  0.4  0.   1. ]\n",
      " [ 0.4  0.8  0.6  1.   0. ]]\n"
     ]
    },
    {
     "data": {
      "image/png": "[encoded data removed]",
      "text/plain": [
       "<matplotlib.figure.Figure at 0x1c2db518>"
      ]
     },
     "metadata": {},
     "output_type": "display_data"
    }
   ],
   "source": [
    "matching=distance.pdist(cat_data, 'matching')\n",
    "print distance.squareform(matching)\n",
    "Z = hierarchy.linkage(distance.squareform(matching), 'ward')\n",
    "plt.figure()\n",
    "plt.title('Ward Dendrogram / Simple Matching distance')\n",
    "dn = hierarchy.dendrogram(Z)"
   ]
  },
  {
   "cell_type": "markdown",
   "metadata": {},
   "source": [
    "## Validación"
   ]
  },
  {
   "cell_type": "markdown",
   "metadata": {},
   "source": [
    "### 1. \n",
    "Calcular pureza y entropía (medidas externas) de la siguiente matriz de confusión,"
   ]
  },
  {
   "cell_type": "code",
   "execution_count": 27,
   "metadata": {
    "collapsed": true
   },
   "outputs": [],
   "source": [
    "clases=[\"c1\",\"c2\",\"c3\",\"c4\",\"c5\",\"c6\",\"total\"]\n",
    "g1=[ 1, 1, 0, 11, 4, 676, 693]\n",
    "g2= [27 ,89 ,333 ,827 ,253 ,33 ,1562]\n",
    "g3= [326 ,465 ,8 ,105 ,16 ,29 ,949]\n",
    "total= [354 ,555 ,341 ,943 ,273 ,738 ,3204]"
   ]
  },
  {
   "cell_type": "markdown",
   "metadata": {},
   "source": [
    "### 2. \n",
    "Validar los resultados para k=3 usando medidas externas: matrix de confusión, precisión, recall,\n",
    "F1, pureza y entropía del punto 4 (conjunto de datos Iris)."
   ]
  },
  {
   "cell_type": "markdown",
   "metadata": {},
   "source": [
    "### 3.\n",
    "Dadas las etiquetas de los clusters y la matriz de similaridad,"
   ]
  },
  {
   "cell_type": "markdown",
   "metadata": {},
   "source": [
    "Etiqueta del cluster\n",
    "P1 1\n",
    "P2 1\n",
    "P3 2\n",
    "P4 2\n",
    "S=\n",
    "P1 P2 P3 P4\n",
    "P1 1 0.8 0.65 0.55\n",
    "P2 0.8 1 0.7 0.6\n",
    "P3 0.65 0.7 1 0.9\n",
    "P4 0.55 0.6 0.9 0\n",
    "Computar la correlacion entre la matriz de similaridad y la matriz de similaridad ideal (1 si los\n",
    "dos pertenecen al mismo cluster y 0 si no)"
   ]
  },
  {
   "cell_type": "markdown",
   "metadata": {},
   "source": [
    "Artículos/Presentaciones\n",
    "1. ¿Qué tienen en común los algoritmos Chameleon y Gravitational Clustering? Explicar.\n",
    "2. ¿Cuales son las características del algoritmo Gravitational que lo hacen diferente a los algoritmos\n",
    "tradicionales de clustering?\n",
    "3. ¿Cuál es la relación entre los algoritmos K-means y EM"
   ]
  },
  {
   "cell_type": "code",
   "execution_count": null,
   "metadata": {
    "collapsed": true
   },
   "outputs": [],
   "source": []
  }
 ],
 "metadata": {
  "anaconda-cloud": {},
  "kernelspec": {
   "display_name": "Python [default]",
   "language": "python",
   "name": "python2"
  },
  "language_info": {
   "codemirror_mode": {
    "name": "ipython",
    "version": 2
   },
   "file_extension": ".py",
   "mimetype": "text/x-python",
   "name": "python",
   "nbconvert_exporter": "python",
   "pygments_lexer": "ipython2",
   "version": "2.7.12"
  }
 },
 "nbformat": 4,
 "nbformat_minor": 1
}
