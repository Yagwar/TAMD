{
 "cells": [
  {
   "cell_type": "markdown",
   "metadata": {},
   "source": [
    "# Clustering Documents Tweets\n",
    "\n",
    "http://scikit-learn.org/stable/auto_examples/text/document_clustering.html\n",
    "\n",
    "http://adilmoujahid.com/posts/2014/07/twitter-analytics/\n",
    "\n",
    "https://marcobonzanini.com/2015/03/02/mining-twitter-data-with-python-part-1/\n",
    "\n"
   ]
  },
  {
   "cell_type": "code",
   "execution_count": 1,
   "metadata": {
    "collapsed": false
   },
   "outputs": [],
   "source": [
    "import codecs\n",
    "import glob\n",
    "import json\n",
    "import matplotlib.pyplot as plt\n",
    "import nltk\n",
    "import numpy as np\n",
    "import os\n",
    "import pandas as pd\n",
    "import re\n",
    "import string\n",
    "import time\n",
    "\n",
    "from math import log\n",
    "from matplotlib import pyplot as plt\n",
    "from nltk import sent_tokenize, word_tokenize\n",
    "from nltk import word_tokenize, FreqDist\n",
    "from nltk.corpus import stopwords\n",
    "from nltk.stem.porter import PorterStemmer\n",
    "from scipy import ndimage\n",
    "from sklearn import manifold, datasets\n",
    "from sklearn import metrics\n",
    "from sklearn.cluster import AgglomerativeClustering\n",
    "from sklearn.cluster import DBSCAN\n",
    "from sklearn.cluster import KMeans\n",
    "from sklearn.decomposition import PCA\n",
    "from sklearn.feature_extraction.text import TfidfVectorizer\n",
    "from time import time\n",
    "\n",
    "from sklearn.decomposition import TruncatedSVD\n",
    "from sklearn.pipeline import make_pipeline\n",
    "from sklearn.preprocessing import Normalizer\n",
    "from sklearn import metrics\n",
    "\n",
    "%matplotlib inline\n",
    "#nltk.download()"
   ]
  },
  {
   "cell_type": "code",
   "execution_count": 2,
   "metadata": {
    "collapsed": false
   },
   "outputs": [
    {
     "name": "stdout",
     "output_type": "stream",
     "text": [
      "['Streaming\\\\iot_data_130516.txt', 'Streaming\\\\iot_data_140516.txt', 'Streaming\\\\iot_data_150516.txt', 'Streaming\\\\iot_data_160516.txt', 'Streaming\\\\iot_data_170516.txt', 'Streaming\\\\iot_data_180516.txt']\n"
     ]
    }
   ],
   "source": [
    "path_prep_files = 'Streaming/' #iot_results.json\n",
    "all_files =  glob.glob(path_prep_files+'*.txt')\n",
    "print (all_files)\n",
    "token_arr = []\n",
    "path = 'Streaming/'"
   ]
  },
  {
   "cell_type": "code",
   "execution_count": 3,
   "metadata": {
    "collapsed": false
   },
   "outputs": [],
   "source": [
    "tokens_list = []\n",
    "\n",
    "regex_str = [\n",
    "    r'<[^>]+>', # HTML tags\n",
    "    r'(?:@[\\w_]+)', # @-mentions\n",
    "    r\"(?:\\#+[\\w_]+[\\w\\'_\\-]*[\\w_]+)\", # hash-tags\n",
    "    r'http[s]?://(?:[a-z]|[0-9]|[$-_@.&+]|[!*\\(\\),]|(?:%[0-9a-f][0-9a-f]))+', # URLs\n",
    "    r'(?:(?:\\d+,?)+(?:\\.?\\d+)?)', # numbers\n",
    "    r\"(?:[a-z][a-z'\\-_]+[a-z])\", # words with - and '\n",
    "    r'(?:[\\w_]+)', # other words\n",
    "    r'(?:\\S)' # anything else\n",
    "]\n",
    "\n",
    "regex_rem = [\n",
    "    r'<[^>]+>', # HTML tags\n",
    "    r'(?:@[\\w_]+)', # @-mentions\n",
    "    r'http[s]?://(?:[a-z]|[0-9]|[$-_@.&+]|[!*\\(\\),]|(?:%[0-9a-f][0-9a-f]))+', # URLs\n",
    "    r'(?:(?:\\d+,?)+(?:\\.?\\d+)?)', # numbers\n",
    "]\n",
    "\n",
    "tokens_re = re.compile(r'('+'|'.join(regex_str)+')', re.VERBOSE | re.IGNORECASE)\n",
    "tokens_remove = re.compile(r'('+'|'.join(regex_rem)+')', re.VERBOSE | re.IGNORECASE)\n",
    "\n",
    "punctuation = list(string.punctuation)\n",
    "stop = stopwords.words('english') + punctuation + ['rt', 'via']\n",
    "\n",
    "def tokenize(s):\n",
    "    '''tokens = nltk.word_tokenize(text)\n",
    "    return tokens'''\n",
    "    return tokens_re.findall(s)\n",
    "          \n",
    "def preprocess(s, lowercase=True):\n",
    "    tokens = tokenize(s)\n",
    "    if lowercase:\n",
    "        tokens = [token.lower() for token in tokens]\n",
    "    return tokens         \n",
    "\n",
    "counter = 0"
   ]
  },
  {
   "cell_type": "code",
   "execution_count": 4,
   "metadata": {
    "collapsed": false,
    "scrolled": true
   },
   "outputs": [
    {
     "name": "stdout",
     "output_type": "stream",
     "text": [
      "[]\n",
      "2000\n",
      "Dimensiones tf-idf (1999, 1490)\n",
      "TfidfVectorizer(analyzer=u'word', binary=False, decode_error=u'strict',\n",
      "        dtype=<type 'numpy.int64'>, encoding=u'utf-8', input=u'content',\n",
      "        lowercase=True, max_df=0.5, max_features=None, min_df=2,\n",
      "        ngram_range=(1, 1), norm=u'l2', preprocessor=None, smooth_idf=True,\n",
      "        stop_words='english', strip_accents=None, sublinear_tf=False,\n",
      "        token_pattern=u'(?u)\\\\b\\\\w\\\\w+\\\\b', tokenizer=None, use_idf=True,\n",
      "        vocabulary=None)\n",
      "[ 7.50229017  6.65499231  7.50229017 ...,  7.50229017  7.50229017\n",
      "  7.50229017]\n",
      "  (0, 87)\t0.501898312092\n",
      "  (0, 311)\t0.497804969396\n",
      "  (0, 1109)\t0.498383768881\n",
      "  (0, 1022)\t0.501898312092\n",
      "  (1, 1464)\t0.519781773664\n",
      "  (1, 496)\t0.57269375854\n",
      "  (1, 1460)\t0.550733300656\n",
      "  (1, 43)\t0.313913361047\n",
      "  (2, 173)\t0.333981443979\n",
      "  (2, 629)\t0.561461419186\n",
      "  (2, 320)\t0.366816718451\n",
      "  (2, 559)\t0.662316363159\n",
      "  (3, 87)\t0.501898312092\n",
      "  (3, 311)\t0.497804969396\n",
      "  (3, 1109)\t0.498383768881\n",
      "  (3, 1022)\t0.501898312092\n",
      "  (4, 665)\t0.566830843179\n",
      "  (4, 1155)\t0.323590072408\n",
      "  (4, 1207)\t0.585911902364\n",
      "  (4, 531)\t0.480311880894\n",
      "  (5, 87)\t0.501898312092\n",
      "  (5, 311)\t0.497804969396\n",
      "  (5, 1109)\t0.498383768881\n",
      "  (5, 1022)\t0.501898312092\n",
      "  (6, 447)\t0.677777605699\n",
      "  :\t:\n",
      "  (1995, 94)\t0.319093479871\n",
      "  (1995, 1380)\t0.39066555601\n",
      "  (1995, 742)\t0.319093479871\n",
      "  (1995, 320)\t0.216365871717\n",
      "  (1996, 74)\t0.498450757567\n",
      "  (1996, 69)\t0.436034928606\n",
      "  (1996, 66)\t0.430328349104\n",
      "  (1996, 1451)\t0.442238333699\n",
      "  (1996, 868)\t0.425044881725\n",
      "  (1997, 836)\t0.327998930504\n",
      "  (1997, 995)\t0.317854118037\n",
      "  (1997, 1283)\t0.302557024661\n",
      "  (1997, 357)\t0.309565202712\n",
      "  (1997, 247)\t0.291131474919\n",
      "  (1997, 1116)\t0.267907724442\n",
      "  (1997, 1107)\t0.257160742023\n",
      "  (1997, 1399)\t0.296486264701\n",
      "  (1997, 299)\t0.286341452234\n",
      "  (1997, 1032)\t0.317854118037\n",
      "  (1997, 627)\t0.179440486992\n",
      "  (1997, 1388)\t0.208019027252\n",
      "  (1997, 43)\t0.186956638671\n",
      "  (1998, 1227)\t0.57735026919\n",
      "  (1998, 92)\t0.57735026919\n",
      "  (1998, 1219)\t0.57735026919\n"
     ]
    }
   ],
   "source": [
    "print(tokens_list)\n",
    "counter2 = 0\n",
    "\n",
    "with open(path+'iot_data_160516.txt', 'r') as f:\n",
    "    for line in f:\n",
    "        counter+=1\n",
    "        if counter == 2000:\n",
    "            break;\n",
    "        tweet = json.loads(line)\n",
    "        tweetString = \"\"\n",
    "        for term in preprocess(tweet['text']):\n",
    "            if not tokens_remove.search(term) and term not in stop:\n",
    "                tweetString = tweetString + term + \" \"\n",
    "        tokens_list.append(tweetString)\n",
    "\n",
    "\n",
    "'''tokens_list = tokens_list + [term for term in preprocess(tweet['text']) if term not in stop]'''\n",
    "print counter\n",
    "'''print tokens_list_clr'''\n",
    "\n",
    "tfidf = TfidfVectorizer(max_df=0.5, min_df=2, stop_words='english')\n",
    "tfs = tfidf.fit_transform(tokens_list)\n",
    "\n",
    "print \"Dimensiones tf-idf\",tfs.shape\n",
    "print tfidf\n",
    "print tfidf.idf_\n",
    "print tfs\n"
   ]
  },
  {
   "cell_type": "markdown",
   "metadata": {},
   "source": [
    "### Identify best K"
   ]
  },
  {
   "cell_type": "code",
   "execution_count": 5,
   "metadata": {
    "collapsed": false
   },
   "outputs": [
    {
     "data": {
      "image/png": "[encoded data removed]",
      "text/plain": [
       "<matplotlib.figure.Figure at 0x1f39ff98>"
      ]
     },
     "metadata": {},
     "output_type": "display_data"
    }
   ],
   "source": [
    "k_range = range(2,65,3)\n",
    "\n",
    "start = time()\n",
    "# Fit the kmeans model for each n_clusters = k\n",
    "\n",
    "k_means_var = [KMeans(init='k-means++', n_clusters=k, n_init=10, n_jobs=-1).fit(tfs) for k in k_range]\n",
    "Res_Silhouette=[metrics.silhouette_score(tfs, cluster.labels_, sample_size=15000) for cluster in k_means_var]\n",
    "%matplotlib inline \n",
    "plt.plot(k_range, Res_Silhouette,\"-\")\n",
    "plt.xlabel(\"n_clusters para k-means\")\n",
    "plt.ylabel(\"coeficiente de silhouette\")\n",
    "plt.show()"
   ]
  },
  {
   "cell_type": "code",
   "execution_count": 6,
   "metadata": {
    "collapsed": false
   },
   "outputs": [
    {
     "name": "stderr",
     "output_type": "stream",
     "text": [
      "C:\\Anaconda2\\lib\\site-packages\\numpy\\core\\_methods.py:59: RuntimeWarning: Mean of empty slice.\n",
      "  warnings.warn(\"Mean of empty slice.\", RuntimeWarning)\n"
     ]
    },
    {
     "data": {
      "image/png": "[encoded data removed]",
      "text/plain": [
       "<matplotlib.figure.Figure at 0x1f3b83c8>"
      ]
     },
     "metadata": {},
     "output_type": "display_data"
    }
   ],
   "source": [
    "k_range = range(2,65,3)\n",
    "svd = TruncatedSVD(n_components=2)\n",
    "normalizer = Normalizer(copy=False)\n",
    "lsa = make_pipeline(svd, normalizer)\n",
    "reduced_data = lsa.fit_transform(tfs)\n",
    "\n",
    "start = time()\n",
    "# Fit the kmeans model for each n_clusters = k\n",
    "\n",
    "k_means_var = [KMeans(init='k-means++', n_clusters=k, n_init=10, n_jobs=-1).fit(reduced_data) for k in k_range]\n",
    "Res_Silhouette=[metrics.silhouette_score(reduced_data, cluster.labels_, sample_size=15000) for cluster in k_means_var]\n",
    "%matplotlib inline \n",
    "plt.plot(k_range, Res_Silhouette,\"-\")\n",
    "plt.xlabel(\"n_clusters para k-means\")\n",
    "plt.ylabel(\"coeficiente de silhouette\")\n",
    "plt.show()"
   ]
  },
  {
   "cell_type": "markdown",
   "metadata": {},
   "source": [
    "### Graphics\n",
    "\n"
   ]
  },
  {
   "cell_type": "code",
   "execution_count": 7,
   "metadata": {
    "collapsed": false
   },
   "outputs": [
    {
     "name": "stdout",
     "output_type": "stream",
     "text": [
      "done in 0.028000s\n",
      "Explained variance of the SVD step: 14%\n",
      "[[ 0.99995321 -0.00967404]\n",
      " [ 0.03230143  0.99947817]\n",
      " [ 0.01002995  0.9999497 ]\n",
      " ..., \n",
      " [ 0.11501733  0.99336348]\n",
      " [ 0.01335926  0.99991076]\n",
      " [ 0.0093075   0.99995668]]\n",
      "done in 1.804s\n",
      "Silhouette Coefficient: 0.768\n"
     ]
    }
   ],
   "source": [
    "t0 = time()\n",
    "svd = TruncatedSVD(n_components=2)\n",
    "normalizer = Normalizer(copy=False)\n",
    "lsa = make_pipeline(svd, normalizer)\n",
    "\n",
    "reduced_data = lsa.fit_transform(tfs)\n",
    "\n",
    "print(\"done in %fs\" % (time() - t0))\n",
    "\n",
    "explained_variance = svd.explained_variance_ratio_.sum()\n",
    "print(\"Explained variance of the SVD step: {}%\".format(\n",
    "    int(explained_variance * 100)))\n",
    "\n",
    "t0 = time()\n",
    "kmeans = KMeans(init='k-means++', n_clusters=10, n_init=10, n_jobs=1)\n",
    "\n",
    "print(reduced_data)\n",
    "kmeans.fit(tfs)\n",
    "kmeans.fit(reduced_data)\n",
    "print(\"done in %0.3fs\" % (time() - t0))\n",
    "\n",
    "print(\"Silhouette Coefficient: %0.3f\"\n",
    "      % metrics.silhouette_score(reduced_data, kmeans.labels_, sample_size=15000))\n"
   ]
  },
  {
   "cell_type": "code",
   "execution_count": 8,
   "metadata": {
    "collapsed": false
   },
   "outputs": [
    {
     "data": {
      "image/png": "[encoded data removed]",
      "text/plain": [
       "<matplotlib.figure.Figure at 0x1f39f400>"
      ]
     },
     "metadata": {},
     "output_type": "display_data"
    },
    {
     "name": "stdout",
     "output_type": "stream",
     "text": [
      "Hallo\n"
     ]
    }
   ],
   "source": [
    "x_min, x_max = reduced_data[:, 0].min()-1, reduced_data[:, 0].max()+1\n",
    "y_min, y_max = reduced_data[:, 1].min()-1, reduced_data[:, 1].max()+1\n",
    "xx, yy = np.meshgrid(np.arange(x_min, x_max, .02), np.arange(y_min, y_max, .02))\n",
    "Z = kmeans.predict(np.c_[xx.ravel(), yy.ravel()])\n",
    "Z = Z.reshape(xx.shape)\n",
    "\n",
    "plt.figure(1)\n",
    "plt.clf()\n",
    "plt.imshow(Z, interpolation='nearest',\n",
    "          extent=(xx.min(), xx.max(), yy.min(), yy.max()),\n",
    "          cmap=plt.cm.Paired,\n",
    "          aspect='auto', origin='lower')\n",
    "\n",
    "plt.plot(reduced_data[:, 0], reduced_data[:, 1], 'k.', markersize=4)\n",
    "centroids = kmeans.cluster_centers_\n",
    "inert = kmeans.inertia_\n",
    "plt.scatter(centroids[:, 0], centroids[:, 1],\n",
    "           marker='x', s=169, linewidths=3,\n",
    "           color='w', zorder=8)\n",
    "plt.xlim(x_min, x_max)\n",
    "plt.ylim(y_min, y_max)\n",
    "plt.xticks(())\n",
    "plt.yticks(())\n",
    "plt.show()\n",
    "print (\"Hallo\")"
   ]
  },
  {
   "cell_type": "code",
   "execution_count": null,
   "metadata": {
    "collapsed": true
   },
   "outputs": [],
   "source": []
  }
 ],
 "metadata": {
  "kernelspec": {
   "display_name": "Python 2",
   "language": "python",
   "name": "python2"
  },
  "language_info": {
   "codemirror_mode": {
    "name": "ipython",
    "version": 2
   },
   "file_extension": ".py",
   "mimetype": "text/x-python",
   "name": "python",
   "nbconvert_exporter": "python",
   "pygments_lexer": "ipython2",
   "version": "2.7.11"
  }
 },
 "nbformat": 4,
 "nbformat_minor": 0
}
